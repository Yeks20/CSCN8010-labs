{
 "cells": [
  {
   "cell_type": "markdown",
   "metadata": {},
   "source": [
    " # Loading the datasets into a numpy array "
   ]
  },
  {
   "cell_type": "code",
   "execution_count": 24,
   "metadata": {},
   "outputs": [
    {
     "name": "stdout",
     "output_type": "stream",
     "text": [
      "[[2 0 0 ... 0 0 0]\n",
      " [9 0 0 ... 0 0 0]\n",
      " [6 0 0 ... 0 0 0]\n",
      " ...\n",
      " [8 0 0 ... 0 0 0]\n",
      " [8 0 0 ... 0 0 0]\n",
      " [7 0 0 ... 0 0 0]]\n",
      "[2 9 6 ... 8 8 7]\n",
      "[[[  0   0   0 ...   0   0   0]\n",
      "  [  0   0   0 ...   0   0   0]\n",
      "  [  0   0   0 ...   0   0   0]\n",
      "  ...\n",
      "  [  0   0   0 ...   0   0   0]\n",
      "  [  0   0   0 ...   0   0   0]\n",
      "  [  0   0   0 ...   0   0   0]]\n",
      "\n",
      " [[  0   0   0 ...   0   0   0]\n",
      "  [  0   0   0 ...   0   0   0]\n",
      "  [  0   0   0 ...   0   0   0]\n",
      "  ...\n",
      "  [  0   0   0 ...   0   0   0]\n",
      "  [  0   0   0 ...   0   0   0]\n",
      "  [  0   0   0 ...   0   0   0]]\n",
      "\n",
      " [[  0   0   0 ...   0   0   0]\n",
      "  [  0   0   0 ...   0   0   0]\n",
      "  [  0   0   0 ...   0   0   0]\n",
      "  ...\n",
      "  [  0   0   0 ...   0   0   0]\n",
      "  [  0   0   0 ...   0   0   0]\n",
      "  [  0   0   0 ...   0   0   0]]\n",
      "\n",
      " ...\n",
      "\n",
      " [[  0   0   0 ...   0   0   0]\n",
      "  [  0   0   0 ...   0   0   0]\n",
      "  [  0   0   0 ...   0   0   0]\n",
      "  ...\n",
      "  [  0   0   0 ...   0   0   0]\n",
      "  [  0   0   0 ...   0   0   0]\n",
      "  [  0   0   0 ...   0   0   0]]\n",
      "\n",
      " [[  0   0   0 ...   0   0   0]\n",
      "  [  0   0   0 ...   0   0   0]\n",
      "  [  0   0   0 ...   0   0   0]\n",
      "  ...\n",
      "  [  0   0 159 ...   5   0   0]\n",
      "  [  0   0   0 ...   0   0   1]\n",
      "  [  0   0   0 ...   0   0   0]]\n",
      "\n",
      " [[  0   0   0 ...   0   0   0]\n",
      "  [  0   0   0 ...   0   0   0]\n",
      "  [  0   0   0 ...   0   0   0]\n",
      "  ...\n",
      "  [  0   0   0 ...   0   0   0]\n",
      "  [  0   0   0 ...   0   0   0]\n",
      "  [  0   0   0 ...   0   0   0]]]\n",
      "[[0 0 0 ... 0 0 0]\n",
      " [1 0 0 ... 0 0 0]\n",
      " [2 0 0 ... 0 0 0]\n",
      " ...\n",
      " [8 0 0 ... 0 1 0]\n",
      " [8 0 1 ... 0 0 0]\n",
      " [1 0 0 ... 0 0 0]]\n",
      "[0 1 2 ... 8 8 1]\n",
      "[[[  0   0   0 ...   0   0   0]\n",
      "  [  0   0   4 ...   0   0   0]\n",
      "  [  0   0   1 ...   0   0   0]\n",
      "  ...\n",
      "  [  0   0   0 ...   0   0   0]\n",
      "  [  0   0   0 ...   0   0   0]\n",
      "  [  0   0   0 ...   0   0   0]]\n",
      "\n",
      " [[  0   0   0 ...   0   0   0]\n",
      "  [  0   0   0 ...   0   0   0]\n",
      "  [  0   0   0 ...   0   0   0]\n",
      "  ...\n",
      "  [  0   0   0 ...   0   0   0]\n",
      "  [  0   0   0 ...   0   0   0]\n",
      "  [  0   0   0 ...   0   0   0]]\n",
      "\n",
      " [[  0   0   0 ...   0   0   0]\n",
      "  [  0   0   0 ...   0   0   0]\n",
      "  [  0   0   0 ...   0   0   0]\n",
      "  ...\n",
      "  [  0   0   0 ...   0   0   0]\n",
      "  [  0   0   0 ...   0   0   0]\n",
      "  [  0   0   0 ...   0   0   0]]\n",
      "\n",
      " ...\n",
      "\n",
      " [[  0   0   0 ...   0   0   0]\n",
      "  [  0   0   0 ...   0   0   0]\n",
      "  [  0   0   0 ...   0   0   0]\n",
      "  ...\n",
      "  [  0   0   3 ...   0   0   0]\n",
      "  [  0   0   2 ...   0   0   0]\n",
      "  [  0   0   0 ...   0   1   0]]\n",
      "\n",
      " [[  0   1   3 ...   0   2   0]\n",
      "  [  0   0   0 ...   0   0   0]\n",
      "  [  0   0 116 ... 200  29   0]\n",
      "  ...\n",
      "  [  0   0   4 ...   0   4   0]\n",
      "  [  0   0   0 ...   2   0   0]\n",
      "  [  0   0   0 ...   0   0   0]]\n",
      "\n",
      " [[  0   0   0 ...   0   0   0]\n",
      "  [  0   0   0 ...   0   0   0]\n",
      "  [  0   0   0 ...   0   0   0]\n",
      "  ...\n",
      "  [  0   0   0 ...   0   0   0]\n",
      "  [  0   0   0 ...   0   0   0]\n",
      "  [  0   0   0 ...   0   0   0]]]\n"
     ]
    }
   ],
   "source": [
    "import numpy as np\n",
    "import pandas as pd\n",
    "\n",
    "# Load the Fashion-MNIST test dataset\n",
    "test_data = pd.read_csv('fashion-mnist_test.csv').values\n",
    "test_labels = test_data[:, 0]  # First column contains the labels\n",
    "test_images = test_data[:, 1:]  # Remaining columns contain the image pixels\n",
    "test_images = test_images.reshape(-1, 28, 28)  # Reshape images to 28x28\n",
    "\n",
    "# Load the Fashion-MNIST train dataset\n",
    "train_data = pd.read_csv('fashion-mnist_train.csv').values\n",
    "train_labels = train_data[:, 0]  # First column contains the labels\n",
    "train_images = train_data[:, 1:]  # Remaining columns contain the image pixels\n",
    "train_images = train_images.reshape(-1, 28, 28)  # Reshape images to 28x28\n",
    "\n",
    "print(train_data)\n",
    "print(train_labels)\n",
    "print(train_images)\n",
    "print(test_data)\n",
    "print(test_labels)\n",
    "print(test_images)"
   ]
  },
  {
   "cell_type": "markdown",
   "metadata": {},
   "source": [
    "# EDA of Fashion Mnist train and test dataset referencing [Mnist Deep Neural Network]('https://www.kaggle.com/code/prashant111/mnist-deep-neural-network-with-keras')\n",
    "### the to_categorical function from Keras is used to convert the labels to one-hot encoded vectors. The num_classes argument specifies the number of classes in the dataset, which is 10 in the case of Fashion-MNIST \n",
    "\n",
    "\n",
    "\n"
   ]
  },
  {
   "cell_type": "code",
   "execution_count": 25,
   "metadata": {},
   "outputs": [
    {
     "data": {
      "image/png": "[encoded data removed]",
      "text/plain": [
       "<Figure size 1000x400 with 10 Axes>"
      ]
     },
     "metadata": {},
     "output_type": "display_data"
    },
    {
     "name": "stdout",
     "output_type": "stream",
     "text": [
      "Epoch 1/10\n",
      "375/375 [==============================] - 7s 10ms/step - loss: 0.4838 - accuracy: 0.8252 - val_loss: 0.3831 - val_accuracy: 0.8582\n",
      "Epoch 2/10\n",
      "375/375 [==============================] - 3s 7ms/step - loss: 0.3372 - accuracy: 0.8772 - val_loss: 0.3709 - val_accuracy: 0.8613\n",
      "Epoch 3/10\n",
      "375/375 [==============================] - 3s 7ms/step - loss: 0.3002 - accuracy: 0.8896 - val_loss: 0.3444 - val_accuracy: 0.8706\n",
      "Epoch 4/10\n",
      "375/375 [==============================] - 3s 7ms/step - loss: 0.2694 - accuracy: 0.9003 - val_loss: 0.3274 - val_accuracy: 0.8837\n",
      "Epoch 5/10\n",
      "375/375 [==============================] - 3s 8ms/step - loss: 0.2456 - accuracy: 0.9078 - val_loss: 0.3415 - val_accuracy: 0.8763\n",
      "Epoch 6/10\n",
      "375/375 [==============================] - 4s 10ms/step - loss: 0.2267 - accuracy: 0.9150 - val_loss: 0.3275 - val_accuracy: 0.8802\n",
      "Epoch 7/10\n",
      "375/375 [==============================] - 2s 5ms/step - loss: 0.2084 - accuracy: 0.9226 - val_loss: 0.3379 - val_accuracy: 0.8790\n",
      "Epoch 8/10\n",
      "375/375 [==============================] - 1s 4ms/step - loss: 0.1935 - accuracy: 0.9285 - val_loss: 0.3327 - val_accuracy: 0.8867\n",
      "Epoch 9/10\n",
      "375/375 [==============================] - 2s 5ms/step - loss: 0.1834 - accuracy: 0.9309 - val_loss: 0.3405 - val_accuracy: 0.8878\n",
      "Epoch 10/10\n",
      "375/375 [==============================] - 2s 4ms/step - loss: 0.1663 - accuracy: 0.9388 - val_loss: 0.3582 - val_accuracy: 0.8798\n"
     ]
    }
   ],
   "source": [
    "import numpy as np\n",
    "import pandas as pd\n",
    "import matplotlib.pyplot as plt \n",
    "from sklearn.model_selection import train_test_split\n",
    "from sklearn.preprocessing import StandardScaler\n",
    "from keras.utils import to_categorical\n",
    "from keras.models import Sequential\n",
    "from keras.layers import Dense\n",
    "\n",
    "# Load the Fashion-MNIST test dataset\n",
    "test_data = pd.read_csv('fashion-mnist_test.csv').values\n",
    "test_labels = test_data[:, 0]  # First column contains the labels\n",
    "test_images = test_data[:, 1:]  # Remaining columns contain the image pixels\n",
    "\n",
    "# Load the Fashion-MNIST train dataset\n",
    "train_data = pd.read_csv('fashion-mnist_train.csv').values\n",
    "train_labels = train_data[:, 0]  # First column contains the labels\n",
    "train_images = train_data[:, 1:]  # Remaining columns contain the image pixels\n",
    " \n",
    "fig, axes = plt.subplots(2, 5, figsize=(10, 4))\n",
    "axes = axes.ravel()\n",
    "\n",
    "for i in range(10):\n",
    "    axes[i].imshow(train_images[i].reshape(28, 28), cmap='gray')\n",
    "    axes[i].set_title('Label: {}'.format(train_labels[i]))\n",
    "    axes[i].axis('off')\n",
    "\n",
    "plt.tight_layout()\n",
    "plt.show()\n",
    "\n",
    "# Split the train dataset into train and validation sets\n",
    "train_images, val_images, train_labels, val_labels = train_test_split(train_images, train_labels, test_size=0.2, random_state=42)\n",
    "\n",
    "# Normalize the pixel values to a range between 0 and 1\n",
    "scaler = StandardScaler()\n",
    "train_images = scaler.fit_transform(train_images)\n",
    "val_images = scaler.transform(val_images)\n",
    "test_images = scaler.transform(test_images)\n",
    "\n",
    "# Convert the labels to one-hot encoded vectors\n",
    "num_classes = 10\n",
    "train_labels = to_categorical(train_labels, num_classes)\n",
    "val_labels = to_categorical(val_labels, num_classes)\n",
    "test_labels = to_categorical(test_labels, num_classes)\n",
    "\n",
    "# Build the deep neural network model\n",
    "model = Sequential()\n",
    "model.add(Dense(128, activation='relu', input_shape=(784,)))\n",
    "model.add(Dense(64, activation='relu'))\n",
    "model.add(Dense(num_classes, activation='softmax'))\n",
    "\n",
    "# Compile the model\n",
    "model.compile(loss='categorical_crossentropy', optimizer='adam', metrics=['accuracy'])\n",
    "\n",
    "# Train the model\n",
    "history = model.fit(train_images, train_labels, batch_size=128, epochs=10, validation_data=(val_images, val_labels))"
   ]
  },
  {
   "cell_type": "markdown",
   "metadata": {},
   "source": [
    "# Define and Train a fully-connected feedforward neural network  using Keras and Tensorflow\n",
    "### Three fully-connected layers make up this structure: an output layer with 10 units (which corresponds to the number of classes in Fashion-MNIST) and two hidden layers with 128 and 64 units, respectively. To get class probabilities, the output layer uses the softmax activation function, whereas the hidden layers employ the relu activation function. The validation data is supplied to track the model's performance during training, and the fit function is run to train the model on the training set.\n"
   ]
  },
  {
   "cell_type": "code",
   "execution_count": 26,
   "metadata": {},
   "outputs": [
    {
     "name": "stdout",
     "output_type": "stream",
     "text": [
      "Epoch 1/10\n",
      "375/375 [==============================] - 2s 4ms/step - loss: 0.4756 - accuracy: 0.8313 - val_loss: 0.3758 - val_accuracy: 0.8663\n",
      "Epoch 2/10\n",
      "375/375 [==============================] - 1s 3ms/step - loss: 0.3370 - accuracy: 0.8777 - val_loss: 0.3563 - val_accuracy: 0.8702\n",
      "Epoch 3/10\n",
      "375/375 [==============================] - 1s 4ms/step - loss: 0.2942 - accuracy: 0.8922 - val_loss: 0.3420 - val_accuracy: 0.8770\n",
      "Epoch 4/10\n",
      "375/375 [==============================] - 2s 4ms/step - loss: 0.2677 - accuracy: 0.9014 - val_loss: 0.3316 - val_accuracy: 0.8745\n",
      "Epoch 5/10\n",
      "375/375 [==============================] - 2s 5ms/step - loss: 0.2436 - accuracy: 0.9093 - val_loss: 0.3332 - val_accuracy: 0.8802\n",
      "Epoch 6/10\n",
      "375/375 [==============================] - 2s 4ms/step - loss: 0.2261 - accuracy: 0.9156 - val_loss: 0.3198 - val_accuracy: 0.8888\n",
      "Epoch 7/10\n",
      "375/375 [==============================] - 1s 4ms/step - loss: 0.2083 - accuracy: 0.9227 - val_loss: 0.3359 - val_accuracy: 0.8845\n",
      "Epoch 8/10\n",
      "375/375 [==============================] - 1s 4ms/step - loss: 0.1954 - accuracy: 0.9268 - val_loss: 0.3312 - val_accuracy: 0.8883\n",
      "Epoch 9/10\n",
      "375/375 [==============================] - 1s 4ms/step - loss: 0.1807 - accuracy: 0.9339 - val_loss: 0.3547 - val_accuracy: 0.8823\n",
      "Epoch 10/10\n",
      "375/375 [==============================] - 1s 4ms/step - loss: 0.1715 - accuracy: 0.9372 - val_loss: 0.3529 - val_accuracy: 0.8868\n"
     ]
    }
   ],
   "source": [
    "import numpy as np\n",
    "import pandas as pd\n",
    "from sklearn.model_selection import train_test_split\n",
    "from sklearn.preprocessing import StandardScaler\n",
    "from keras.models import Sequential\n",
    "from keras.layers import Dense\n",
    "from keras.optimizers import Adam\n",
    "\n",
    "\n",
    "test_data = pd.read_csv('fashion-mnist_test.csv').values\n",
    "test_labels = test_data[:, 0]  \n",
    "test_images = test_data[:, 1:]  \n",
    "\n",
    "\n",
    "train_data = pd.read_csv('fashion-mnist_train.csv').values\n",
    "train_labels = train_data[:, 0]  \n",
    "train_images = train_data[:, 1:]  \n",
    "\n",
    "# Split the train dataset into train and validation sets\n",
    "train_images, val_images, train_labels, val_labels = train_test_split(train_images, train_labels, test_size=0.2, random_state=42)\n",
    "\n",
    "# Normalize the pixel values to a range between 0 and 1\n",
    "scaler = StandardScaler()\n",
    "train_images = scaler.fit_transform(train_images)\n",
    "val_images = scaler.transform(val_images)\n",
    "test_images = scaler.transform(test_images)\n",
    "\n",
    "# Define the neural network model\n",
    "model = Sequential()\n",
    "model.add(Dense(128, activation='relu', input_shape=(784,)))\n",
    "model.add(Dense(64, activation='relu'))\n",
    "model.add(Dense(10, activation='softmax'))\n",
    "\n",
    "# Compile the model\n",
    "model.compile(loss='sparse_categorical_crossentropy', optimizer=Adam(), metrics=['accuracy'])\n",
    "\n",
    "# Train the model\n",
    "history = model.fit(train_images, train_labels, batch_size=128, epochs=10, validation_data=(val_images, val_labels))"
   ]
  },
  {
   "cell_type": "markdown",
   "metadata": {},
   "source": [
    "# Evaluating the model using the validation dataset\n",
    "## The scikit-learn functions accuracy_score, precision_score, recall_score, and f1_score are used to calculate the respective metrics. The average='weighted' parameter is used to compute the weighted average of the metrics, which takes into account class imbalances."
   ]
  },
  {
   "cell_type": "code",
   "execution_count": 27,
   "metadata": {},
   "outputs": [
    {
     "name": "stdout",
     "output_type": "stream",
     "text": [
      "375/375 [==============================] - 1s 2ms/step\n",
      "Validation Accuracy: 0.8868333333333334\n",
      "Validation Precision: 0.887727098804209\n",
      "Validation Recall: 0.8868333333333334\n",
      "Validation F1 Score: 0.8869875425122862\n"
     ]
    }
   ],
   "source": [
    "from sklearn.metrics import accuracy_score, precision_score, recall_score, f1_score\n",
    "\n",
    "# Make predictions on the validation dataset\n",
    "val_probs = model.predict(val_images)\n",
    "val_predictions = np.argmax(val_probs, axis=1)\n",
    "\n",
    "# Calculate evaluation metrics\n",
    "accuracy = accuracy_score(val_labels, val_predictions)\n",
    "precision = precision_score(val_labels, val_predictions, average='weighted')\n",
    "recall = recall_score(val_labels, val_predictions, average='weighted')\n",
    "f1 = f1_score(val_labels, val_predictions, average='weighted')\n",
    "\n",
    "# Print the evaluation metrics\n",
    "print(\"Validation Accuracy:\", accuracy)\n",
    "print(\"Validation Precision:\", precision)\n",
    "print(\"Validation Recall:\", recall)\n",
    "print(\"Validation F1 Score:\", f1)"
   ]
  },
  {
   "cell_type": "markdown",
   "metadata": {},
   "source": [
    "# The evaluation metrics (accuracy_score, precision_score, recall_score, and f1_score) are calculated by comparing the predicted labels to the true labels from the test set. Analyzing these metrics assesses the model's effectiveness in predicting the labels of the test sets. Higher values for accuracy, precision, recall, and F1 score indicate better performance."
   ]
  },
  {
   "cell_type": "code",
   "execution_count": 28,
   "metadata": {},
   "outputs": [
    {
     "name": "stdout",
     "output_type": "stream",
     "text": [
      "313/313 [==============================] - 1s 2ms/step\n",
      "Test Accuracy: 0.8877\n",
      "Test Precision: 0.8894601853794577\n",
      "Test Recall: 0.8877\n",
      "Test F1 Score: 0.8883428781819944\n"
     ]
    }
   ],
   "source": [
    "# Make predictions on the test dataset\n",
    "test_probs = model.predict(test_images)\n",
    "test_predictions = np.argmax(test_probs, axis=1)\n",
    "\n",
    "# Calculate evaluation metrics\n",
    "test_accuracy = accuracy_score(test_labels, test_predictions)\n",
    "test_precision = precision_score(test_labels, test_predictions, average='weighted')\n",
    "test_recall = recall_score(test_labels, test_predictions, average='weighted')\n",
    "test_f1 = f1_score(test_labels, test_predictions, average='weighted')\n",
    "\n",
    "# Print the evaluation metrics\n",
    "print(\"Test Accuracy:\", test_accuracy)\n",
    "print(\"Test Precision:\", test_precision)\n",
    "print(\"Test Recall:\", test_recall)\n",
    "print(\"Test F1 Score:\", test_f1)"
   ]
  },
  {
   "cell_type": "markdown",
   "metadata": {},
   "source": [
    "# Increase in precision for class 5\n",
    "### num_classes represent total number of classes where the precision score is calculated by indexing the appropriate column ([:, 5]) in the one-hot encoded test_labels_one_hot array"
   ]
  },
  {
   "cell_type": "code",
   "execution_count": 29,
   "metadata": {},
   "outputs": [
    {
     "name": "stdout",
     "output_type": "stream",
     "text": [
      "313/313 [==============================] - 1s 3ms/step\n",
      "Precision for class '5': 0.967479674796748\n"
     ]
    }
   ],
   "source": [
    "from sklearn.metrics import precision_score\n",
    "import numpy as np\n",
    "\n",
    "# Convert test_labels to one-hot encoded format if needed\n",
    "test_labels_one_hot = np.eye(num_classes)[test_labels]\n",
    "\n",
    "# Set the desired decision threshold for class '5'\n",
    "threshold = 0.7\n",
    "\n",
    "# Make predictions on the test dataset\n",
    "test_probs = model.predict(test_images)\n",
    "test_predictions = (test_probs[:, 5] >= threshold).astype(int)\n",
    "\n",
    "# Calculate the precision score for class '5'\n",
    "precision_class_5 = precision_score(test_labels_one_hot[:, 5], test_predictions)\n",
    "\n",
    "# Print the precision score for class '5'\n",
    "print(\"Precision for class '5':\", precision_class_5)"
   ]
  },
  {
   "cell_type": "markdown",
   "metadata": {},
   "source": [
    "# Increase in recall for class 5\n",
    "### We convert the test_labels array to a one-hot encoded format using np.eye(num_classes), where num_classes represents the total number of classes. The recall score is calculated by indexing the appropriate column ([:, 5]) in the one-hot encoded test_labels_one_hot array"
   ]
  },
  {
   "cell_type": "code",
   "execution_count": 31,
   "metadata": {},
   "outputs": [
    {
     "name": "stdout",
     "output_type": "stream",
     "text": [
      "313/313 [==============================] - 2s 6ms/step\n",
      "Recall for class '5': 0.962\n"
     ]
    }
   ],
   "source": [
    "from sklearn.metrics import recall_score\n",
    "import numpy as np\n",
    "\n",
    "# Convert test_labels to one-hot encoded format if needed\n",
    "test_labels_one_hot = np.eye(num_classes)[test_labels]\n",
    "\n",
    "# Set the desired decision threshold for class '5'\n",
    "threshold = 0.3\n",
    "\n",
    "# Make predictions on the test dataset\n",
    "test_probs = model.predict(test_images)\n",
    "test_predictions = (test_probs[:, 5] >= threshold).astype(int)\n",
    "\n",
    "# Calculate the recall score for class '5'\n",
    "recall_class_5 = recall_score(test_labels_one_hot[:, 5], test_predictions)\n",
    "\n",
    "# Print the recall score for class '5'\n",
    "print(\"Recall for class '5':\", recall_class_5)"
   ]
  },
  {
   "cell_type": "markdown",
   "metadata": {},
   "source": [
    "# Conclusion\n",
    "### In the course of this project I trained and tested the FMnist neural network  using tensorflow and sklearn to run a good EDA showing accuracy,precision and recall including references gotten from kaggle"
   ]
  }
 ],
 "metadata": {
  "kernelspec": {
   "display_name": "tensorflow_cpu",
   "language": "python",
   "name": "tensorflow_cpu"
  },
  "language_info": {
   "codemirror_mode": {
    "name": "ipython",
    "version": 3
   },
   "file_extension": ".py",
   "mimetype": "text/x-python",
   "name": "python",
   "nbconvert_exporter": "python",
   "pygments_lexer": "ipython3",
   "version": "3.11.8"
  }
 },
 "nbformat": 4,
 "nbformat_minor": 2
}
